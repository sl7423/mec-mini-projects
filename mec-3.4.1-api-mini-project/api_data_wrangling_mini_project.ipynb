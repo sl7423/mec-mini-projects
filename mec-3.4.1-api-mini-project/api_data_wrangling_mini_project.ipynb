{
 "cells": [
  {
   "cell_type": "markdown",
   "metadata": {},
   "source": [
    "This exercise will require you to pull some data from https://data.nasdaq.com/ (formerly Quandl API)."
   ]
  },
  {
   "cell_type": "markdown",
   "metadata": {},
   "source": [
    "As a first step, you will need to register a free account on the https://data.nasdaq.com/ website."
   ]
  },
  {
   "cell_type": "markdown",
   "metadata": {},
   "source": [
    "After you register, you will be provided with a unique API key, that you should store:\n",
    "\n",
    "*Note*: Use a `.env` file and put your key in there and `python-dotenv` to access it in this notebook. \n",
    "\n",
    "The code below uses a key that was used when generating this project but has since been deleted. Never submit your keys to source control. There is a `.env-example` file in this repository to illusrtate what you need. Copy that to a file called `.env` and use your own api key in that `.env` file. Make sure you also have a `.gitignore` file with a line for `.env` added to it. \n",
    "\n",
    "The standard Python gitignore is [here](https://github.com/github/gitignore/blob/master/Python.gitignore) you can just copy that. "
   ]
  },
  {
   "cell_type": "code",
   "execution_count": 7,
   "metadata": {},
   "outputs": [],
   "source": [
    "# get api key from your .env file\n",
    "import os\n",
    "from dotenv import load_dotenv  # if missing this module, simply run `pip install python-dotenv`\n",
    "\n",
    "load_dotenv()\n",
    "API_KEY = os.getenv('NASDAQ_API_KEY')"
   ]
  },
  {
   "cell_type": "markdown",
   "metadata": {},
   "source": [
    "Nasdaq Data has a large number of data sources, but, unfortunately, most of them require a Premium subscription. Still, there are also a good number of free datasets."
   ]
  },
  {
   "cell_type": "markdown",
   "metadata": {},
   "source": [
    "For this mini project, we will focus on equities data from the Frankfurt Stock Exhange (FSE), which is available for free. We'll try and analyze the stock prices of a company called Carl Zeiss Meditec, which manufactures tools for eye examinations, as well as medical lasers for laser eye surgery: https://www.zeiss.com/meditec/int/home.html. The company is listed under the stock ticker AFX_X."
   ]
  },
  {
   "cell_type": "markdown",
   "metadata": {},
   "source": [
    "You can find the detailed Nasdaq Data API instructions here: https://docs.data.nasdaq.com/docs/in-depth-usage"
   ]
  },
  {
   "cell_type": "markdown",
   "metadata": {},
   "source": [
    "While there is a dedicated Python package for connecting to the Nasdaq API, we would prefer that you use the *requests* package, which can be easily downloaded using *pip* or *conda*. You can find the documentation for the package here: http://docs.python-requests.org/en/master/ "
   ]
  },
  {
   "cell_type": "markdown",
   "metadata": {},
   "source": [
    "Finally, apart from the *requests* package, you are encouraged to not use any third party Python packages, such as *pandas*, and instead focus on what's available in the Python Standard Library (the *collections* module might come in handy: https://pymotw.com/3/collections/).\n",
    "Also, since you won't have access to DataFrames, you are encouraged to us Python's native data structures - preferably dictionaries, though some questions can also be answered using lists.\n",
    "You can read more on these data structures here: https://docs.python.org/3/tutorial/datastructures.html"
   ]
  },
  {
   "cell_type": "markdown",
   "metadata": {},
   "source": [
    "Keep in mind that the JSON responses you will be getting from the API map almost one-to-one to Python's dictionaries. Unfortunately, they can be very nested, so make sure you read up on indexing dictionaries in the documentation provided above."
   ]
  },
  {
   "cell_type": "code",
   "execution_count": 2,
   "metadata": {},
   "outputs": [],
   "source": [
    "# First, import the relevant modules\n",
    "import json\n",
    "import urllib.request"
   ]
  },
  {
   "cell_type": "markdown",
   "metadata": {},
   "source": [
    "Note: API's can change a bit with each version, for this exercise it is reccomended to use the nasdaq api at `https://data.nasdaq.com/api/v3/`. This is the same api as what used to be quandl so `https://www.quandl.com/api/v3/` should work too.\n",
    "\n",
    "Hint: We are looking for the `AFX_X` data on the `datasets/FSE/` dataset."
   ]
  },
  {
   "cell_type": "code",
   "execution_count": 12,
   "metadata": {
    "scrolled": true
   },
   "outputs": [],
   "source": [
    "# Now, call the Nasdaq API and pull out a small sample of the data (only one day) to get a glimpse\n",
    "# into the JSON structure that will be returned\n",
    "url = \"https://data.nasdaq.com/api/v3/datasets/FSE/AFX_X/data.json?api_key=\" + API_KEY\n",
    "data = json.loads(urllib.request.urlopen(url).read().decode('utf8'))"
   ]
  },
  {
   "cell_type": "code",
   "execution_count": 75,
   "metadata": {},
   "outputs": [
    {
     "data": {
      "text/plain": [
       "'Date'"
      ]
     },
     "execution_count": 75,
     "metadata": {},
     "output_type": "execute_result"
    }
   ],
   "source": [
    "# Used to determine where the keys are located\n",
    "headers = data['dataset']['column_names']\n",
    "headers[0]"
   ]
  },
  {
   "cell_type": "code",
   "execution_count": 20,
   "metadata": {},
   "outputs": [
    {
     "name": "stdout",
     "output_type": "stream",
     "text": [
      "Date\n",
      "Open\n",
      "High\n",
      "Low\n",
      "Close\n",
      "Change\n",
      "Traded Volume\n",
      "Turnover\n",
      "Last Price of the Day\n",
      "Daily Traded Units\n",
      "Daily Turnover\n"
     ]
    }
   ],
   "source": [
    "table_headers = data['dataset']['column_names']\n",
    "for header in table_headers:\n",
    "    lst(header)"
   ]
  },
  {
   "cell_type": "code",
   "execution_count": 38,
   "metadata": {},
   "outputs": [],
   "source": [
    "#Dataset is located within this file.\n",
    "date_param_1 = '2017-01-01'\n",
    "date_param_2 = '2017-12-31'\n",
    "\n",
    "combined = {}\n",
    "\n",
    "date = []\n",
    "open_p = []\n",
    "high = []\n",
    "low = []\n",
    "close = []\n",
    "change = []\n",
    "traded_volume = []\n",
    "turnover = []\n",
    "last_price = []\n",
    "daily_trade_units = []\n",
    "daily_turnover = []\n",
    "    \n",
    "for lst in data['dataset']['data']:\n",
    "    if lst[0] >= date_param_1 and lst[0] <= date_param_2:\n",
    "        date.append(lst[0])\n",
    "        open_p.append(lst[1])\n",
    "        high.append(lst[2])\n",
    "        low.append(lst[3])\n",
    "        close.append(lst[4])\n",
    "        change.append(lst[5])\n",
    "        traded_volume.append(lst[6])\n",
    "        turnover.append(lst[7])\n",
    "        last_price.append(lst[8])\n",
    "        daily_trade_units.append(lst[9])\n",
    "        daily_turnover.append(lst[10])\n",
    "        \n",
    "combined['date'] = date\n",
    "combined['open'] = open_p\n",
    "combined['high'] = high\n",
    "combined['low'] = low\n",
    "combined['close'] = close\n",
    "combined['change'] = change\n",
    "combined['traded_volume'] = traded_volume\n",
    "combined['turnover'] = turnover\n",
    "combined['last_price'] = last_price\n",
    "combined['daily_trade_unnits'] = daily_trade_units\n",
    "combined['daily_turnover'] = daily_turnover\n",
    "        "
   ]
  },
  {
   "cell_type": "code",
   "execution_count": 92,
   "metadata": {},
   "outputs": [
    {
     "data": {
      "text/plain": [
       "0"
      ]
     },
     "execution_count": 92,
     "metadata": {},
     "output_type": "execute_result"
    }
   ],
   "source": [
    "date_index = table_headers.index('Date')\n",
    "date_index"
   ]
  },
  {
   "cell_type": "code",
   "execution_count": 93,
   "metadata": {},
   "outputs": [],
   "source": [
    "#Refactor of the 2nd approach\n",
    "date_param_1 = '2017-01-01'\n",
    "date_param_2 = '2017-12-31'\n",
    "\n",
    "combined = {}\n",
    "date_index = table_headers.index('Date')\n",
    "\n",
    "for number in range(len(table_headers)):\n",
    "    combined[table_headers[number]] = []\n",
    "    \n",
    "for lst in data['dataset']['data']:\n",
    "    if lst[date_index] >= date_param_1 and lst[date_index] <= date_param_2:\n",
    "        for number in range(len(table_headers)):\n",
    "            combined[table_headers[number]].append(lst[number])"
   ]
  },
  {
   "cell_type": "code",
   "execution_count": 40,
   "metadata": {},
   "outputs": [],
   "source": [
    "# Inspect the JSON structure of the object you created, and take note of how nested it is,\n",
    "# as well as the overall structure"
   ]
  },
  {
   "cell_type": "markdown",
   "metadata": {},
   "source": [
    "These are your tasks for this mini project:\n",
    "\n",
    "1. Collect data from the Franfurt Stock Exchange, for the ticker AFX_X, for the whole year 2017 (keep in mind that the date format is YYYY-MM-DD).\n",
    "2. Convert the returned JSON object into a Python dictionary.\n",
    "3. Calculate what the highest and lowest opening prices were for the stock in this period.\n",
    "4. What was the largest change in any one day (based on High and Low price)?\n",
    "5. What was the largest change between any two days (based on Closing Price)?\n",
    "6. What was the average daily trading volume during this year?\n",
    "7. (Optional) What was the median trading volume during this year. (Note: you may need to implement your own function for calculating the median.)"
   ]
  },
  {
   "cell_type": "code",
   "execution_count": 41,
   "metadata": {},
   "outputs": [
    {
     "name": "stdout",
     "output_type": "stream",
     "text": [
      "53.11\n",
      "34.0\n"
     ]
    }
   ],
   "source": [
    "#3 Largest and Smallest Price\n",
    "\n",
    "print(max(value for value in combined['open'] if isinstance(value, float)))\n",
    "print(min(value for value in combined['open'] if isinstance(value, float)))"
   ]
  },
  {
   "cell_type": "code",
   "execution_count": 55,
   "metadata": {},
   "outputs": [
    {
     "name": "stdout",
     "output_type": "stream",
     "text": [
      "2.8100000000000023\n"
     ]
    }
   ],
   "source": [
    "#4 Largest change between value of two lists\n",
    "max_value = 0\n",
    "\n",
    "for value in range(len(combined['high'])):\n",
    "    new_value = combined['high'][value] - combined['low'][value]\n",
    "    if new_value > max_value:\n",
    "        max_value = new_value\n",
    "        \n",
    "\n",
    "print(max_value)\n"
   ]
  },
  {
   "cell_type": "code",
   "execution_count": 58,
   "metadata": {},
   "outputs": [
    {
     "name": "stdout",
     "output_type": "stream",
     "text": [
      "2.559999999999995\n"
     ]
    }
   ],
   "source": [
    "#5 Largest trading value between two days\n",
    "diff_value = 0\n",
    "\n",
    "for value in range(len(combined['close'])):\n",
    "    if value > 0 and combined['close'][value] - combined['close'][value-1] > diff_value:\n",
    "        diff_value = combined['close'][value] - combined['close'][value-1]\n",
    "        \n",
    "print(diff_value)\n",
    "        "
   ]
  },
  {
   "cell_type": "code",
   "execution_count": 60,
   "metadata": {},
   "outputs": [
    {
     "data": {
      "text/plain": [
       "89124.34"
      ]
     },
     "execution_count": 60,
     "metadata": {},
     "output_type": "execute_result"
    }
   ],
   "source": [
    "#6\n",
    "round(sum(value for value in combined['traded_volume'] if isinstance(value, float))/len(combined['traded_volume']),2)"
   ]
  },
  {
   "cell_type": "code",
   "execution_count": 66,
   "metadata": {},
   "outputs": [
    {
     "data": {
      "text/plain": [
       "117165.0"
      ]
     },
     "execution_count": 66,
     "metadata": {},
     "output_type": "execute_result"
    }
   ],
   "source": [
    "def median(lst):\n",
    "    if len(lst) % 2 == 0:\n",
    "        mid_value = int(len(lst)/2)\n",
    "        return (lst[mid_value] + lst[mid_value+1])/2\n",
    "    else:\n",
    "        mid_value = int((len(lst)+1)/2)\n",
    "        return lst[mid_value]\n",
    "    \n",
    "    \n",
    "median(combined['traded_volume'])"
   ]
  }
 ],
 "metadata": {
  "interpreter": {
   "hash": "4885f37acae9217c235118400878352aafa7b76e66df698a1f601374f86939a7"
  },
  "kernelspec": {
   "display_name": "Python 3",
   "language": "python",
   "name": "python3"
  },
  "language_info": {
   "codemirror_mode": {
    "name": "ipython",
    "version": 3
   },
   "file_extension": ".py",
   "mimetype": "text/x-python",
   "name": "python",
   "nbconvert_exporter": "python",
   "pygments_lexer": "ipython3",
   "version": "3.7.9"
  }
 },
 "nbformat": 4,
 "nbformat_minor": 4
}
